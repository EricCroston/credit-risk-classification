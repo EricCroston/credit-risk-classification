# Import the modules
import numpy as np
import pandas as pd
from pathlib import Path
from sklearn.metrics import confusion_matrix, accuracy_score, classification_report
from sklearn.model_selection import train_test_split
from sklearn.linear_model import LogisticRegression











# Read the CSV file from the Resources folder into a Pandas DataFrame
lending_df = pd.read_csv(Path('Resources/lending_data.csv'))

# Review the DataFrame
lending_df.info()





# Separate the y variable, the labels
y = lending_df['loan_status']

# Separate the X variable, the features
X = lending_df.drop(columns='loan_status')


# Review the y variable Series
y[:10]


# Review the X variable DataFrame
X.head()





# Split the data using train_test_split using a random_state of 1
X_train, X_test, y_train, y_test = train_test_split(X, y, random_state=1)











# Instantiate the Logistic Regression model with a random_state of 1
classifier = LogisticRegression(solver='lbfgs', random_state=1)

# Fit the model using training data
classifier.fit(X_train, y_train)





# Make a prediction using the testing data
y_pred = classifier.predict(X_test)





# Generate a confusion matrix for the model
cm = confusion_matrix(y_test, y_pred)
cm_df = pd.DataFrame(
    cm, index=["Actual 0", "Actual 1"], columns=["Predicted 0", "Predicted 1"]
)

# Calculate the accuracy score
acc_score = accuracy_score(y_test, y_pred)

# Display the results
print("Confusion Matrix")
display(cm_df)
print(f"Accuracy Score : {acc_score}")
print("Classification Report")
print(classification_report(y_test, y_pred))


# Print the classification report for the model
print(classification_report(y_test, y_pred))









